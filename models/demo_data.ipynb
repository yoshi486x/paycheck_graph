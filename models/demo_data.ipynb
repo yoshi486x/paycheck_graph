{
 "nbformat": 4,
 "nbformat_minor": 2,
 "metadata": {
  "language_info": {
   "name": "python",
   "codemirror_mode": {
    "name": "ipython",
    "version": 3
   },
   "version": "3.7.4-final"
  },
  "orig_nbformat": 2,
  "file_extension": ".py",
  "mimetype": "text/x-python",
  "name": "python",
  "npconvert_exporter": "python",
  "pygments_lexer": "ipython3",
  "version": 3,
  "kernelspec": {
   "name": "python37464bitpaycheckvenv6834eb30f9784ffa8cf6bcc392f2d087",
   "display_name": "Python 3.7.4 64-bit ('paycheck': venv)"
  }
 },
 "cells": [
  {
   "cell_type": "code",
   "execution_count": 19,
   "metadata": {},
   "outputs": [],
   "source": [
    "import json\n",
    "import numpy as np\n",
    "import os\n",
    "import pandas as pd\n",
    "import pathlib"
   ]
  },
  {
   "cell_type": "code",
   "execution_count": 20,
   "metadata": {},
   "outputs": [],
   "source": [
    "JSON_DIR_PATH = 'data/output/json'\n",
    "PAID_DATE = 'paid_date'\n",
    "CATEGORY = 'income'\n",
    "BASE_DIR = '/Users/dev-yoshiki/Hobby/paycheck_reader'\n",
    "EMP_NO = 9999999\n",
    "JSON_DIR_PATH = '/Users/dev-yoshiki/Hobby/paycheck_reader/data/output/json'\n",
    "JSON_FILES = ['1300_1614120_K_20180425.json', '1300_1614120_K_20180525.json', '1300_1614120_K_20180625.json', '1300_1614120_K_20180725.json', '1300_1614120_K_20180824.json', '1300_1614120_K_20180925.json', '1300_1614120_K_20181025.json', '1300_1614120_K_20181122.json', '1300_1614120_K_20181225.json', '1300_1614120_K_20190125.json', '1300_1614120_K_20190225.json', '1300_1614120_K_20190325.json', '1300_1614120_K_20190425.json', '1300_1614120_K_20190524.json', '1300_1614120_K_20190625.json', '1300_1614120_K_20190725.json', '1300_1614120_K_20190823.json', '1300_1614120_K_20190925.json', '1300_1614120_K_20191025.json', '1300_1614120_K_20191125.json', '1300_1614120_K_20191225.json', '1300_1614120_K_20200124.json', '1300_1614120_K_20200225.json']"
   ]
  },
  {
   "cell_type": "code",
   "execution_count": 21,
   "metadata": {},
   "outputs": [],
   "source": [
    "dataframes = []\n",
    "for filename in JSON_FILES:\n",
    "    dates, keys, values, indexes = [], [], [], []\n",
    "\n",
    "    file_path = pathlib.Path(JSON_DIR_PATH, filename)\n",
    "    with open(file_path, 'r') as json_file:\n",
    "        dict_data = json.load(json_file)\n",
    "\n",
    "    \"\"\"Single key extraction\"\"\"\n",
    "    dates, keys, values = [], [], []\n",
    "    date = dict_data[PAID_DATE]\n",
    "    for key, value in dict_data['incomes'].items():\n",
    "        values.append(value)\n",
    "        keys.append(key)\n",
    "        dates.append(date)\n",
    "    df = pd.DataFrame({'date': dates, 'type': keys, 'value': values})\n",
    "    dataframes.append(df)\n",
    "\n",
    "df = pd.concat(dataframes)"
   ]
  },
  {
   "cell_type": "code",
   "execution_count": 22,
   "metadata": {},
   "outputs": [
    {
     "ename": "TypeError",
     "evalue": "'(['total'], ['mean'])' is an invalid key",
     "output_type": "error",
     "traceback": [
      "\u001b[0;31m---------------------------------------------------------------------------\u001b[0m",
      "\u001b[0;31mTypeError\u001b[0m                                 Traceback (most recent call last)",
      "\u001b[0;32m<ipython-input-22-6457b5f15ee8>\u001b[0m in \u001b[0;36m<module>\u001b[0;34m\u001b[0m\n\u001b[1;32m      5\u001b[0m \u001b[0mtable\u001b[0m\u001b[0;34m[\u001b[0m\u001b[0;34m'std'\u001b[0m\u001b[0;34m]\u001b[0m \u001b[0;34m=\u001b[0m \u001b[0mtable\u001b[0m\u001b[0;34m.\u001b[0m\u001b[0mfilter\u001b[0m\u001b[0;34m(\u001b[0m\u001b[0mregex\u001b[0m\u001b[0;34m=\u001b[0m\u001b[0;34m'\\d{4}-\\d{2}-\\d{2}'\u001b[0m\u001b[0;34m)\u001b[0m\u001b[0;34m.\u001b[0m\u001b[0mstd\u001b[0m\u001b[0;34m(\u001b[0m\u001b[0maxis\u001b[0m\u001b[0;34m=\u001b[0m\u001b[0;36m1\u001b[0m\u001b[0;34m)\u001b[0m\u001b[0;34m\u001b[0m\u001b[0;34m\u001b[0m\u001b[0m\n\u001b[1;32m      6\u001b[0m \u001b[0;31m# table[['total'], ['mean'], ['std']]\u001b[0m\u001b[0;34m\u001b[0m\u001b[0;34m\u001b[0m\u001b[0;34m\u001b[0m\u001b[0m\n\u001b[0;32m----> 7\u001b[0;31m \u001b[0mtable\u001b[0m\u001b[0;34m[\u001b[0m\u001b[0;34m[\u001b[0m\u001b[0;34m'total'\u001b[0m\u001b[0;34m]\u001b[0m\u001b[0;34m,\u001b[0m \u001b[0;34m[\u001b[0m\u001b[0;34m'mean'\u001b[0m\u001b[0;34m]\u001b[0m\u001b[0;34m]\u001b[0m\u001b[0;34m\u001b[0m\u001b[0;34m\u001b[0m\u001b[0m\n\u001b[0m\u001b[1;32m      8\u001b[0m \u001b[0;31m# table\u001b[0m\u001b[0;34m\u001b[0m\u001b[0;34m\u001b[0m\u001b[0;34m\u001b[0m\u001b[0m\n",
      "\u001b[0;32m~/Hobby/paycheck_reader/paycheck/lib/python3.7/site-packages/pandas/core/frame.py\u001b[0m in \u001b[0;36m__getitem__\u001b[0;34m(self, key)\u001b[0m\n\u001b[1;32m   2993\u001b[0m             \u001b[0;32mif\u001b[0m \u001b[0mself\u001b[0m\u001b[0;34m.\u001b[0m\u001b[0mcolumns\u001b[0m\u001b[0;34m.\u001b[0m\u001b[0mnlevels\u001b[0m \u001b[0;34m>\u001b[0m \u001b[0;36m1\u001b[0m\u001b[0;34m:\u001b[0m\u001b[0;34m\u001b[0m\u001b[0;34m\u001b[0m\u001b[0m\n\u001b[1;32m   2994\u001b[0m                 \u001b[0;32mreturn\u001b[0m \u001b[0mself\u001b[0m\u001b[0;34m.\u001b[0m\u001b[0m_getitem_multilevel\u001b[0m\u001b[0;34m(\u001b[0m\u001b[0mkey\u001b[0m\u001b[0;34m)\u001b[0m\u001b[0;34m\u001b[0m\u001b[0;34m\u001b[0m\u001b[0m\n\u001b[0;32m-> 2995\u001b[0;31m             \u001b[0mindexer\u001b[0m \u001b[0;34m=\u001b[0m \u001b[0mself\u001b[0m\u001b[0;34m.\u001b[0m\u001b[0mcolumns\u001b[0m\u001b[0;34m.\u001b[0m\u001b[0mget_loc\u001b[0m\u001b[0;34m(\u001b[0m\u001b[0mkey\u001b[0m\u001b[0;34m)\u001b[0m\u001b[0;34m\u001b[0m\u001b[0;34m\u001b[0m\u001b[0m\n\u001b[0m\u001b[1;32m   2996\u001b[0m             \u001b[0;32mif\u001b[0m \u001b[0mis_integer\u001b[0m\u001b[0;34m(\u001b[0m\u001b[0mindexer\u001b[0m\u001b[0;34m)\u001b[0m\u001b[0;34m:\u001b[0m\u001b[0;34m\u001b[0m\u001b[0;34m\u001b[0m\u001b[0m\n\u001b[1;32m   2997\u001b[0m                 \u001b[0mindexer\u001b[0m \u001b[0;34m=\u001b[0m \u001b[0;34m[\u001b[0m\u001b[0mindexer\u001b[0m\u001b[0;34m]\u001b[0m\u001b[0;34m\u001b[0m\u001b[0;34m\u001b[0m\u001b[0m\n",
      "\u001b[0;32m~/Hobby/paycheck_reader/paycheck/lib/python3.7/site-packages/pandas/core/indexes/base.py\u001b[0m in \u001b[0;36mget_loc\u001b[0;34m(self, key, method, tolerance)\u001b[0m\n\u001b[1;32m   2895\u001b[0m                 )\n\u001b[1;32m   2896\u001b[0m             \u001b[0;32mtry\u001b[0m\u001b[0;34m:\u001b[0m\u001b[0;34m\u001b[0m\u001b[0;34m\u001b[0m\u001b[0m\n\u001b[0;32m-> 2897\u001b[0;31m                 \u001b[0;32mreturn\u001b[0m \u001b[0mself\u001b[0m\u001b[0;34m.\u001b[0m\u001b[0m_engine\u001b[0m\u001b[0;34m.\u001b[0m\u001b[0mget_loc\u001b[0m\u001b[0;34m(\u001b[0m\u001b[0mkey\u001b[0m\u001b[0;34m)\u001b[0m\u001b[0;34m\u001b[0m\u001b[0;34m\u001b[0m\u001b[0m\n\u001b[0m\u001b[1;32m   2898\u001b[0m             \u001b[0;32mexcept\u001b[0m \u001b[0mKeyError\u001b[0m\u001b[0;34m:\u001b[0m\u001b[0;34m\u001b[0m\u001b[0;34m\u001b[0m\u001b[0m\n\u001b[1;32m   2899\u001b[0m                 \u001b[0;32mreturn\u001b[0m \u001b[0mself\u001b[0m\u001b[0;34m.\u001b[0m\u001b[0m_engine\u001b[0m\u001b[0;34m.\u001b[0m\u001b[0mget_loc\u001b[0m\u001b[0;34m(\u001b[0m\u001b[0mself\u001b[0m\u001b[0;34m.\u001b[0m\u001b[0m_maybe_cast_indexer\u001b[0m\u001b[0;34m(\u001b[0m\u001b[0mkey\u001b[0m\u001b[0;34m)\u001b[0m\u001b[0;34m)\u001b[0m\u001b[0;34m\u001b[0m\u001b[0;34m\u001b[0m\u001b[0m\n",
      "\u001b[0;32mpandas/_libs/index.pyx\u001b[0m in \u001b[0;36mpandas._libs.index.IndexEngine.get_loc\u001b[0;34m()\u001b[0m\n",
      "\u001b[0;32mpandas/_libs/index.pyx\u001b[0m in \u001b[0;36mpandas._libs.index.IndexEngine.get_loc\u001b[0;34m()\u001b[0m\n",
      "\u001b[0;31mTypeError\u001b[0m: '(['total'], ['mean'])' is an invalid key"
     ]
    }
   ],
   "source": [
    "# Sort data by ranking values statistically.\n",
    "table = pd.pivot_table(df, index='type', columns='date', values='value', fill_value=0)\n",
    "table['total'] = table.filter(regex='\\d{4}-\\d{2}-\\d{2}').sum(axis=1)\n",
    "table['mean'] = table.filter(regex='\\d{4}-\\d{2}-\\d{2}').mean(axis=1)\n",
    "table['std'] = table.filter(regex='\\d{4}-\\d{2}-\\d{2}').std(axis=1)\n",
    "# table[['total'], ['mean'], ['std']]\n",
    "table[['total'], ['mean']]\n",
    "# table"
   ]
  },
  {
   "cell_type": "code",
   "execution_count": null,
   "metadata": {},
   "outputs": [],
   "source": [
    "table[['mean'],['total']]"
   ]
  },
  {
   "cell_type": "markdown",
   "metadata": {},
   "source": []
  },
  {
   "cell_type": "code",
   "execution_count": 30,
   "metadata": {},
   "outputs": [
    {
     "data": {
      "text/html": "<div>\n<style scoped>\n    .dataframe tbody tr th:only-of-type {\n        vertical-align: middle;\n    }\n\n    .dataframe tbody tr th {\n        vertical-align: top;\n    }\n\n    .dataframe thead th {\n        text-align: right;\n    }\n</style>\n<table border=\"1\" class=\"dataframe\">\n  <thead>\n    <tr style=\"text-align: right;\">\n      <th>date</th>\n      <th>Alfa</th>\n      <th>Bravo</th>\n      <th>Charlie</th>\n      <th>Delta</th>\n      <th>Echo</th>\n      <th>Foxtrot</th>\n      <th>Golf</th>\n      <th>Hotel</th>\n      <th>India</th>\n      <th>Juliett</th>\n      <th>...</th>\n      <th>November</th>\n      <th>Oscar</th>\n      <th>Papa</th>\n      <th>Quebec</th>\n      <th>Romeo</th>\n      <th>Sierra</th>\n      <th>2019-11-25</th>\n      <th>2019-12-25</th>\n      <th>2020-01-24</th>\n      <th>2020-02-25</th>\n    </tr>\n    <tr>\n      <th>type</th>\n      <th></th>\n      <th></th>\n      <th></th>\n      <th></th>\n      <th></th>\n      <th></th>\n      <th></th>\n      <th></th>\n      <th></th>\n      <th></th>\n      <th></th>\n      <th></th>\n      <th></th>\n      <th></th>\n      <th></th>\n      <th></th>\n      <th></th>\n      <th></th>\n      <th></th>\n      <th></th>\n      <th></th>\n    </tr>\n  </thead>\n  <tbody>\n    <tr>\n      <th>Smart&amp;Fun!支援金</th>\n      <td>10000</td>\n      <td>10000</td>\n      <td>10000</td>\n      <td>10000</td>\n      <td>10000</td>\n      <td>10000</td>\n      <td>10000</td>\n      <td>10000</td>\n      <td>10000</td>\n      <td>10000</td>\n      <td>...</td>\n      <td>10000</td>\n      <td>10000</td>\n      <td>10000</td>\n      <td>10000</td>\n      <td>10000</td>\n      <td>10000</td>\n      <td>10000</td>\n      <td>10000</td>\n      <td>10000</td>\n      <td>10000</td>\n    </tr>\n    <tr>\n      <th>その他支給(課税加算)</th>\n      <td>0</td>\n      <td>0</td>\n      <td>0</td>\n      <td>0</td>\n      <td>0</td>\n      <td>0</td>\n      <td>0</td>\n      <td>0</td>\n      <td>0</td>\n      <td>0</td>\n      <td>...</td>\n      <td>0</td>\n      <td>0</td>\n      <td>0</td>\n      <td>0</td>\n      <td>0</td>\n      <td>0</td>\n      <td>0</td>\n      <td>50000</td>\n      <td>0</td>\n      <td>0</td>\n    </tr>\n    <tr>\n      <th>不足日数時間精算</th>\n      <td>0</td>\n      <td>0</td>\n      <td>0</td>\n      <td>0</td>\n      <td>-13448</td>\n      <td>-12944</td>\n      <td>-2365</td>\n      <td>-12222</td>\n      <td>0</td>\n      <td>0</td>\n      <td>...</td>\n      <td>0</td>\n      <td>0</td>\n      <td>0</td>\n      <td>0</td>\n      <td>0</td>\n      <td>0</td>\n      <td>0</td>\n      <td>0</td>\n      <td>0</td>\n      <td>0</td>\n    </tr>\n    <tr>\n      <th>休日勤務手当</th>\n      <td>0</td>\n      <td>0</td>\n      <td>0</td>\n      <td>15833</td>\n      <td>15833</td>\n      <td>0</td>\n      <td>15833</td>\n      <td>0</td>\n      <td>0</td>\n      <td>0</td>\n      <td>...</td>\n      <td>0</td>\n      <td>0</td>\n      <td>4086</td>\n      <td>0</td>\n      <td>0</td>\n      <td>0</td>\n      <td>0</td>\n      <td>0</td>\n      <td>0</td>\n      <td>0</td>\n    </tr>\n    <tr>\n      <th>基本給</th>\n      <td>220000</td>\n      <td>220000</td>\n      <td>220000</td>\n      <td>220000</td>\n      <td>220000</td>\n      <td>220000</td>\n      <td>220000</td>\n      <td>220000</td>\n      <td>220000</td>\n      <td>220000</td>\n      <td>...</td>\n      <td>220000</td>\n      <td>224500</td>\n      <td>224500</td>\n      <td>224500</td>\n      <td>224500</td>\n      <td>224500</td>\n      <td>224500</td>\n      <td>224500</td>\n      <td>224500</td>\n      <td>224500</td>\n    </tr>\n    <tr>\n      <th>新卒住宅補助</th>\n      <td>0</td>\n      <td>0</td>\n      <td>0</td>\n      <td>25000</td>\n      <td>25000</td>\n      <td>25000</td>\n      <td>25000</td>\n      <td>25000</td>\n      <td>25000</td>\n      <td>25000</td>\n      <td>...</td>\n      <td>25000</td>\n      <td>25000</td>\n      <td>25000</td>\n      <td>25000</td>\n      <td>25000</td>\n      <td>25000</td>\n      <td>25000</td>\n      <td>25000</td>\n      <td>25000</td>\n      <td>25000</td>\n    </tr>\n    <tr>\n      <th>時間外勤務手当</th>\n      <td>0</td>\n      <td>1833</td>\n      <td>0</td>\n      <td>20158</td>\n      <td>73300</td>\n      <td>64138</td>\n      <td>64138</td>\n      <td>75133</td>\n      <td>60473</td>\n      <td>23823</td>\n      <td>...</td>\n      <td>72345</td>\n      <td>32152</td>\n      <td>45390</td>\n      <td>58629</td>\n      <td>49173</td>\n      <td>47282</td>\n      <td>41608</td>\n      <td>49173</td>\n      <td>13239</td>\n      <td>1892</td>\n    </tr>\n    <tr>\n      <th>深夜勤務手当</th>\n      <td>0</td>\n      <td>0</td>\n      <td>0</td>\n      <td>0</td>\n      <td>0</td>\n      <td>367</td>\n      <td>0</td>\n      <td>0</td>\n      <td>367</td>\n      <td>0</td>\n      <td>...</td>\n      <td>742</td>\n      <td>379</td>\n      <td>3026</td>\n      <td>757</td>\n      <td>0</td>\n      <td>379</td>\n      <td>0</td>\n      <td>757</td>\n      <td>0</td>\n      <td>0</td>\n    </tr>\n    <tr>\n      <th>資格取得(奨励金)</th>\n      <td>0</td>\n      <td>0</td>\n      <td>0</td>\n      <td>25700</td>\n      <td>0</td>\n      <td>0</td>\n      <td>0</td>\n      <td>0</td>\n      <td>0</td>\n      <td>0</td>\n      <td>...</td>\n      <td>0</td>\n      <td>0</td>\n      <td>0</td>\n      <td>0</td>\n      <td>0</td>\n      <td>0</td>\n      <td>0</td>\n      <td>0</td>\n      <td>0</td>\n      <td>10000</td>\n    </tr>\n    <tr>\n      <th>通勤手当*</th>\n      <td>0</td>\n      <td>0</td>\n      <td>0</td>\n      <td>63200</td>\n      <td>0</td>\n      <td>0</td>\n      <td>0</td>\n      <td>0</td>\n      <td>0</td>\n      <td>46120</td>\n      <td>...</td>\n      <td>0</td>\n      <td>0</td>\n      <td>46120</td>\n      <td>0</td>\n      <td>0</td>\n      <td>0</td>\n      <td>0</td>\n      <td>0</td>\n      <td>46980</td>\n      <td>0</td>\n    </tr>\n    <tr>\n      <th>遡及差額</th>\n      <td>0</td>\n      <td>0</td>\n      <td>0</td>\n      <td>75000</td>\n      <td>0</td>\n      <td>0</td>\n      <td>0</td>\n      <td>0</td>\n      <td>0</td>\n      <td>0</td>\n      <td>...</td>\n      <td>0</td>\n      <td>10429</td>\n      <td>0</td>\n      <td>0</td>\n      <td>0</td>\n      <td>0</td>\n      <td>0</td>\n      <td>0</td>\n      <td>0</td>\n      <td>0</td>\n    </tr>\n  </tbody>\n</table>\n<p>11 rows × 23 columns</p>\n</div>",
      "text/plain": "date             Alfa   Bravo  Charlie   Delta    Echo  Foxtrot    Golf  \\\ntype                                                                      \nSmart&Fun!支援金   10000   10000    10000   10000   10000    10000   10000   \nその他支給(課税加算)         0       0        0       0       0        0       0   \n不足日数時間精算            0       0        0       0  -13448   -12944   -2365   \n休日勤務手当              0       0        0   15833   15833        0   15833   \n基本給            220000  220000   220000  220000  220000   220000  220000   \n新卒住宅補助              0       0        0   25000   25000    25000   25000   \n時間外勤務手当             0    1833        0   20158   73300    64138   64138   \n深夜勤務手当              0       0        0       0       0      367       0   \n資格取得(奨励金)           0       0        0   25700       0        0       0   \n通勤手当*               0       0        0   63200       0        0       0   \n遡及差額                0       0        0   75000       0        0       0   \n\ndate            Hotel   India  Juliett  ...  November   Oscar    Papa  Quebec  \\\ntype                                    ...                                     \nSmart&Fun!支援金   10000   10000    10000  ...     10000   10000   10000   10000   \nその他支給(課税加算)         0       0        0  ...         0       0       0       0   \n不足日数時間精算       -12222       0        0  ...         0       0       0       0   \n休日勤務手当              0       0        0  ...         0       0    4086       0   \n基本給            220000  220000   220000  ...    220000  224500  224500  224500   \n新卒住宅補助          25000   25000    25000  ...     25000   25000   25000   25000   \n時間外勤務手当         75133   60473    23823  ...     72345   32152   45390   58629   \n深夜勤務手当              0     367        0  ...       742     379    3026     757   \n資格取得(奨励金)           0       0        0  ...         0       0       0       0   \n通勤手当*               0       0    46120  ...         0       0   46120       0   \n遡及差額                0       0        0  ...         0   10429       0       0   \n\ndate            Romeo  Sierra  2019-11-25  2019-12-25  2020-01-24  2020-02-25  \ntype                                                                           \nSmart&Fun!支援金   10000   10000       10000       10000       10000       10000  \nその他支給(課税加算)         0       0           0       50000           0           0  \n不足日数時間精算            0       0           0           0           0           0  \n休日勤務手当              0       0           0           0           0           0  \n基本給            224500  224500      224500      224500      224500      224500  \n新卒住宅補助          25000   25000       25000       25000       25000       25000  \n時間外勤務手当         49173   47282       41608       49173       13239        1892  \n深夜勤務手当              0     379           0         757           0           0  \n資格取得(奨励金)           0       0           0           0           0       10000  \n通勤手当*               0       0           0           0       46980           0  \n遡及差額                0       0           0           0           0           0  \n\n[11 rows x 23 columns]"
     },
     "execution_count": 30,
     "metadata": {},
     "output_type": "execute_result"
    }
   ],
   "source": [
    "newTable = table.transpose()\n",
    "EN_TYPE = ['Alfa', 'Bravo', 'Charlie', 'Delta', 'Echo', 'Foxtrot',\n",
    "        'Golf', 'Hotel', 'India', 'Juliett', 'Kilo', 'LIma', 'Mike', \n",
    "        'November', 'Oscar', 'Papa', 'Quebec', 'Romeo', 'Sierra']\n",
    "\n",
    "col_num = len(table.columns)\n",
    "EN_TYPE = EN_TYPE[:col_num]\n",
    "col_dict = dict(zip(table.columns, EN_TYPE))\n",
    "newTable = table.rename(columns=col_dict)\n",
    "newTable"
   ]
  },
  {
   "cell_type": "code",
   "execution_count": null,
   "metadata": {},
   "outputs": [],
   "source": []
  }
 ]
}