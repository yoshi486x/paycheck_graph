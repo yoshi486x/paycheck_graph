{
 "nbformat": 4,
 "nbformat_minor": 2,
 "metadata": {
  "language_info": {
   "name": "python",
   "codemirror_mode": {
    "name": "ipython",
    "version": 3
   },
   "version": "3.7.4-final"
  },
  "orig_nbformat": 2,
  "file_extension": ".py",
  "mimetype": "text/x-python",
  "name": "python",
  "npconvert_exporter": "python",
  "pygments_lexer": "ipython3",
  "version": 3,
  "kernelspec": {
   "name": "python37464bitpaycheckvenv6834eb30f9784ffa8cf6bcc392f2d087",
   "display_name": "Python 3.7.4 64-bit ('paycheck': venv)"
  }
 },
 "cells": [
  {
   "cell_type": "code",
   "execution_count": 2,
   "metadata": {},
   "outputs": [],
   "source": [
    "import json\n",
    "import numpy as np\n",
    "import os\n",
    "import pandas as pd\n",
    "import pathlib"
   ]
  },
  {
   "cell_type": "code",
   "execution_count": 3,
   "metadata": {},
   "outputs": [],
   "source": [
    "JSON_DIR_PATH = 'data/output/json'\n",
    "PAID_DATE = 'paid_date'\n",
    "CATEGORY = 'income'\n",
    "BASE_DIR = '/Users/dev-yoshiki/Hobby/paycheck_reader'\n",
    "EMP_NO = 9999999\n",
    "JSON_DIR_PATH = '/Users/dev-yoshiki/Hobby/paycheck_reader/data/output/json'\n",
    "JSON_FILES = ['1300_1614120_K_20180425.json', '1300_1614120_K_20180525.json', '1300_1614120_K_20180625.json', '1300_1614120_K_20180725.json', '1300_1614120_K_20180824.json', '1300_1614120_K_20180925.json', '1300_1614120_K_20181025.json', '1300_1614120_K_20181122.json', '1300_1614120_K_20181225.json', '1300_1614120_K_20190125.json', '1300_1614120_K_20190225.json', '1300_1614120_K_20190325.json', '1300_1614120_K_20190425.json', '1300_1614120_K_20190524.json', '1300_1614120_K_20190625.json', '1300_1614120_K_20190725.json', '1300_1614120_K_20190823.json', '1300_1614120_K_20190925.json', '1300_1614120_K_20191025.json', '1300_1614120_K_20191125.json', '1300_1614120_K_20191225.json', '1300_1614120_K_20200124.json', '1300_1614120_K_20200225.json']"
   ]
  },
  {
   "cell_type": "code",
   "execution_count": 4,
   "metadata": {},
   "outputs": [],
   "source": [
    "dataframes = []\n",
    "for filename in JSON_FILES:\n",
    "    dates, keys, values, indexes = [], [], [], []\n",
    "\n",
    "    file_path = pathlib.Path(JSON_DIR_PATH, filename)\n",
    "    with open(file_path, 'r') as json_file:\n",
    "        dict_data = json.load(json_file)\n",
    "\n",
    "    \"\"\"Single key extraction\"\"\"\n",
    "    dates, keys, values = [], [], []\n",
    "    date = dict_data[PAID_DATE]\n",
    "    for key, value in dict_data['incomes'].items():\n",
    "        values.append(value)\n",
    "        keys.append(key)\n",
    "        dates.append(date)\n",
    "    df = pd.DataFrame({'date': dates, 'type': keys, 'value': values})\n",
    "    dataframes.append(df)\n",
    "\n",
    "df = pd.concat(dataframes)"
   ]
  },
  {
   "cell_type": "code",
   "execution_count": 37,
   "metadata": {},
   "outputs": [
    {
     "name": "stdout",
     "output_type": "stream",
     "text": "Total: 7240934\nsum(norm): 100.00999999999999\n"
    },
    {
     "data": {
      "text/html": "<div>\n<style scoped>\n    .dataframe tbody tr th:only-of-type {\n        vertical-align: middle;\n    }\n\n    .dataframe tbody tr th {\n        vertical-align: top;\n    }\n\n    .dataframe thead th {\n        text-align: right;\n    }\n</style>\n<table border=\"1\" class=\"dataframe\">\n  <thead>\n    <tr style=\"text-align: right;\">\n      <th>date</th>\n      <th>total</th>\n      <th>mean</th>\n      <th>std</th>\n      <th>norm</th>\n    </tr>\n    <tr>\n      <th>type</th>\n      <th></th>\n      <th></th>\n      <th></th>\n      <th></th>\n    </tr>\n  </thead>\n  <tbody>\n    <tr>\n      <th>Smart&amp;Fun!支援金</th>\n      <td>230000</td>\n      <td>10000</td>\n      <td>0.00</td>\n      <td>3.18</td>\n    </tr>\n    <tr>\n      <th>その他支給(課税加算)</th>\n      <td>50000</td>\n      <td>50000</td>\n      <td>20.85</td>\n      <td>0.69</td>\n    </tr>\n    <tr>\n      <th>不足日数時間精算</th>\n      <td>40979</td>\n      <td>10244</td>\n      <td>43.17</td>\n      <td>0.57</td>\n    </tr>\n    <tr>\n      <th>休日勤務手当</th>\n      <td>51585</td>\n      <td>12896</td>\n      <td>42.25</td>\n      <td>0.71</td>\n    </tr>\n    <tr>\n      <th>基本給</th>\n      <td>5100500</td>\n      <td>221760</td>\n      <td>1.01</td>\n      <td>70.44</td>\n    </tr>\n    <tr>\n      <th>新卒住宅補助</th>\n      <td>500000</td>\n      <td>25000</td>\n      <td>34.44</td>\n      <td>6.91</td>\n    </tr>\n    <tr>\n      <th>時間外勤務手当</th>\n      <td>936814</td>\n      <td>44610</td>\n      <td>55.57</td>\n      <td>12.94</td>\n    </tr>\n    <tr>\n      <th>深夜勤務手当</th>\n      <td>7507</td>\n      <td>834</td>\n      <td>78.78</td>\n      <td>0.10</td>\n    </tr>\n    <tr>\n      <th>資格取得(奨励金)</th>\n      <td>35700</td>\n      <td>17850</td>\n      <td>31.72</td>\n      <td>0.49</td>\n    </tr>\n    <tr>\n      <th>通勤手当*</th>\n      <td>202420</td>\n      <td>50605</td>\n      <td>39.24</td>\n      <td>2.80</td>\n    </tr>\n    <tr>\n      <th>遡及差額</th>\n      <td>85429</td>\n      <td>42714</td>\n      <td>36.73</td>\n      <td>1.18</td>\n    </tr>\n  </tbody>\n</table>\n</div>",
      "text/plain": "date             total    mean    std   norm\ntype                                        \nSmart&Fun!支援金   230000   10000   0.00   3.18\nその他支給(課税加算)      50000   50000  20.85   0.69\n不足日数時間精算         40979   10244  43.17   0.57\n休日勤務手当           51585   12896  42.25   0.71\n基本給            5100500  221760   1.01  70.44\n新卒住宅補助          500000   25000  34.44   6.91\n時間外勤務手当         936814   44610  55.57  12.94\n深夜勤務手当            7507     834  78.78   0.10\n資格取得(奨励金)        35700   17850  31.72   0.49\n通勤手当*           202420   50605  39.24   2.80\n遡及差額             85429   42714  36.73   1.18"
     },
     "execution_count": 37,
     "metadata": {},
     "output_type": "execute_result"
    }
   ],
   "source": [
    "# Sort data by ranking values statistically.\n",
    "table = pd.pivot_table(df, index='type', columns='date', values='value', fill_value=0)\n",
    "table.loc['不足日数時間精算'] = table.loc['不足日数時間精算'].abs()\n",
    "table.replace(0, np.nan, inplace=True)\n",
    "\n",
    "## total, mean, std\n",
    "table['total'] = table.filter(regex='\\d{4}-\\d{2}-\\d{2}').sum(axis=1)\n",
    "table['total'] = table['total'].astype(int).round(0)\n",
    "table['mean'] = table.filter(regex='\\d{4}-\\d{2}-\\d{2}').mean(axis=1)\n",
    "table['mean'] = table['mean'].astype(int).round(0)\n",
    "table = table.fillna(0)\n",
    "table['std'] = table.filter(regex='\\d{4}-\\d{2}-\\d{2}').std(axis=1)\n",
    "table['std'] = (table['std'] / table['mean'] * 100).astype(float).round(2)\n",
    "# table['std'] = table['std'].astype(int).round(0)\n",
    "\n",
    "# norm\n",
    "Total = table['total'].sum()\n",
    "table['norm'] = (table['total'] / Total * 100).round(2)\n",
    "print('Total:', Total)\n",
    "print('sum(norm):', table['norm'].sum())\n",
    "\n",
    "# sort by std\n",
    "\n",
    "\n",
    "table[['total', 'mean', 'std', 'norm']]"
   ]
  },
  {
   "cell_type": "code",
   "execution_count": 30,
   "metadata": {},
   "outputs": [
    {
     "data": {
      "text/html": "<div>\n<style scoped>\n    .dataframe tbody tr th:only-of-type {\n        vertical-align: middle;\n    }\n\n    .dataframe tbody tr th {\n        vertical-align: top;\n    }\n\n    .dataframe thead th {\n        text-align: right;\n    }\n</style>\n<table border=\"1\" class=\"dataframe\">\n  <thead>\n    <tr style=\"text-align: right;\">\n      <th>date</th>\n      <th>mean</th>\n      <th>total</th>\n    </tr>\n    <tr>\n      <th>type</th>\n      <th></th>\n      <th></th>\n    </tr>\n  </thead>\n  <tbody>\n    <tr>\n      <th>Smart&amp;Fun!支援金</th>\n      <td>10000</td>\n      <td>230000</td>\n    </tr>\n    <tr>\n      <th>その他支給(課税加算)</th>\n      <td>50000</td>\n      <td>50000</td>\n    </tr>\n    <tr>\n      <th>不足日数時間精算</th>\n      <td>10244</td>\n      <td>40979</td>\n    </tr>\n    <tr>\n      <th>休日勤務手当</th>\n      <td>12896</td>\n      <td>51585</td>\n    </tr>\n    <tr>\n      <th>基本給</th>\n      <td>221760</td>\n      <td>5100500</td>\n    </tr>\n    <tr>\n      <th>新卒住宅補助</th>\n      <td>25000</td>\n      <td>500000</td>\n    </tr>\n    <tr>\n      <th>時間外勤務手当</th>\n      <td>44610</td>\n      <td>936814</td>\n    </tr>\n    <tr>\n      <th>深夜勤務手当</th>\n      <td>834</td>\n      <td>7507</td>\n    </tr>\n    <tr>\n      <th>資格取得(奨励金)</th>\n      <td>17850</td>\n      <td>35700</td>\n    </tr>\n    <tr>\n      <th>通勤手当*</th>\n      <td>50605</td>\n      <td>202420</td>\n    </tr>\n    <tr>\n      <th>遡及差額</th>\n      <td>42714</td>\n      <td>85429</td>\n    </tr>\n  </tbody>\n</table>\n</div>",
      "text/plain": "date             mean    total\ntype                          \nSmart&Fun!支援金   10000   230000\nその他支給(課税加算)     50000    50000\n不足日数時間精算        10244    40979\n休日勤務手当          12896    51585\n基本給            221760  5100500\n新卒住宅補助          25000   500000\n時間外勤務手当         44610   936814\n深夜勤務手当            834     7507\n資格取得(奨励金)       17850    35700\n通勤手当*           50605   202420\n遡及差額            42714    85429"
     },
     "execution_count": 30,
     "metadata": {},
     "output_type": "execute_result"
    }
   ],
   "source": [
    "table[['mean','total']]"
   ]
  },
  {
   "cell_type": "markdown",
   "execution_count": null,
   "metadata": {},
   "outputs": [],
   "source": []
  },
  {
   "cell_type": "code",
   "execution_count": null,
   "metadata": {},
   "outputs": [],
   "source": [
    "newTable = table.transpose()\n",
    "EN_TYPE = ['Alfa', 'Bravo', 'Charlie', 'Delta', 'Echo', 'Foxtrot',\n",
    "        'Golf', 'Hotel', 'India', 'Juliett', 'Kilo', 'LIma', 'Mike', \n",
    "        'November', 'Oscar', 'Papa', 'Quebec', 'Romeo', 'Sierra']\n",
    "\n",
    "col_num = len(table.columns)\n",
    "EN_TYPE = EN_TYPE[:col_num]\n",
    "col_dict = dict(zip(table.columns, EN_TYPE))\n",
    "newTable = table.rename(columns=col_dict)\n",
    "newTable"
   ]
  },
  {
   "cell_type": "code",
   "execution_count": null,
   "metadata": {},
   "outputs": [],
   "source": []
  }
 ]
}