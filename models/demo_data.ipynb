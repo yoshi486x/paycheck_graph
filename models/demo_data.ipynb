{
 "nbformat": 4,
 "nbformat_minor": 2,
 "metadata": {
  "language_info": {
   "name": "python",
   "codemirror_mode": {
    "name": "ipython",
    "version": 3
   },
   "version": "3.7.4-final"
  },
  "orig_nbformat": 2,
  "file_extension": ".py",
  "mimetype": "text/x-python",
  "name": "python",
  "npconvert_exporter": "python",
  "pygments_lexer": "ipython3",
  "version": 3,
  "kernelspec": {
   "name": "python37464bitpaycheckvenv6834eb30f9784ffa8cf6bcc392f2d087",
   "display_name": "Python 3.7.4 64-bit ('paycheck': venv)"
  }
 },
 "cells": [
  {
   "cell_type": "code",
   "execution_count": 1,
   "metadata": {},
   "outputs": [],
   "source": [
    "import collections\n",
    "import json\n",
    "import numpy as np\n",
    "import os\n",
    "import pandas as pd\n",
    "import pathlib"
   ]
  },
  {
   "cell_type": "code",
   "execution_count": 4,
   "metadata": {},
   "outputs": [],
   "source": [
    "JSON_DIR_PATH = 'data/output/json'\n",
    "PAID_DATE = 'paid_date'\n",
    "BASE_DIR = '/Users/dev-yoshiki/Hobby/paycheck_reader'\n",
    "EMP_NO = 9999999\n",
    "JSON_DIR_PATH = '/Users/dev-yoshiki/Hobby/paycheck_reader/data/output/json'\n",
    "# FILENAMES = ['1300_1614120_K_20180425', '1300_1614120_K_20180525', '1300_1614120_K_20180625', '1300_1614120_K_20180725', '1300_1614120_K_20180824', '1300_1614120_K_20180925', '1300_1614120_K_20181025', '1300_1614120_K_20181122', '1300_1614120_K_20181225', '1300_1614120_K_20190125', '1300_1614120_K_20190225', '1300_1614120_K_20190325', '1300_1614120_K_20190425', '1300_1614120_K_20190524', '1300_1614120_K_20190625', '1300_1614120_K_20190725', '1300_1614120_K_20190823', '1300_1614120_K_20190925', '1300_1614120_K_20191025', '1300_1614120_K_20191125', '1300_1614120_K_20191225', '1300_1614120_K_20200124', '1300_1614120_K_20200225']\n",
    "JSON_FILES = ['1300_1614120_K_20180425.json', '1300_1614120_K_20180525.json', '1300_1614120_K_20180625.json', '1300_1614120_K_20180725.json', '1300_1614120_K_20180824.json', '1300_1614120_K_20180925.json', '1300_1614120_K_20181025.json', '1300_1614120_K_20181122.json', '1300_1614120_K_20181225.json', '1300_1614120_K_20190125.json', '1300_1614120_K_20190225.json', '1300_1614120_K_20190325.json', '1300_1614120_K_20190425.json', '1300_1614120_K_20190524.json', '1300_1614120_K_20190625.json', '1300_1614120_K_20190725.json', '1300_1614120_K_20190823.json', '1300_1614120_K_20190925.json', '1300_1614120_K_20191025.json', '1300_1614120_K_20191125.json', '1300_1614120_K_20191225.json', '1300_1614120_K_20200124.json', '1300_1614120_K_20200225.json']"
   ]
  },
  {
   "cell_type": "code",
   "execution_count": 28,
   "metadata": {},
   "outputs": [
    {
     "data": {
      "text/html": "<div>\n<style scoped>\n    .dataframe tbody tr th:only-of-type {\n        vertical-align: middle;\n    }\n\n    .dataframe tbody tr th {\n        vertical-align: top;\n    }\n\n    .dataframe thead th {\n        text-align: right;\n    }\n</style>\n<table border=\"1\" class=\"dataframe\">\n  <thead>\n    <tr style=\"text-align: right;\">\n      <th>date</th>\n      <th>2018-04-25</th>\n      <th>2018-05-25</th>\n      <th>2018-06-25</th>\n      <th>2018-07-25</th>\n      <th>2018-08-24</th>\n      <th>2018-09-25</th>\n      <th>2018-10-25</th>\n      <th>2018-11-22</th>\n      <th>2018-12-25</th>\n      <th>2019-01-25</th>\n      <th>...</th>\n      <th>2019-05-24</th>\n      <th>2019-06-25</th>\n      <th>2019-07-25</th>\n      <th>2019-08-23</th>\n      <th>2019-09-25</th>\n      <th>2019-10-25</th>\n      <th>2019-11-25</th>\n      <th>2019-12-25</th>\n      <th>2020-01-24</th>\n      <th>2020-02-25</th>\n    </tr>\n    <tr>\n      <th>type</th>\n      <th></th>\n      <th></th>\n      <th></th>\n      <th></th>\n      <th></th>\n      <th></th>\n      <th></th>\n      <th></th>\n      <th></th>\n      <th></th>\n      <th></th>\n      <th></th>\n      <th></th>\n      <th></th>\n      <th></th>\n      <th></th>\n      <th></th>\n      <th></th>\n      <th></th>\n      <th></th>\n      <th></th>\n    </tr>\n  </thead>\n  <tbody>\n    <tr>\n      <th>Smart&amp;Fun!支援金</th>\n      <td>10000</td>\n      <td>10000</td>\n      <td>10000</td>\n      <td>10000</td>\n      <td>10000</td>\n      <td>10000</td>\n      <td>10000</td>\n      <td>10000</td>\n      <td>10000</td>\n      <td>10000</td>\n      <td>...</td>\n      <td>10000</td>\n      <td>10000</td>\n      <td>10000</td>\n      <td>10000</td>\n      <td>10000</td>\n      <td>10000</td>\n      <td>10000</td>\n      <td>10000</td>\n      <td>10000</td>\n      <td>10000</td>\n    </tr>\n    <tr>\n      <th>その他支給(課税加算)</th>\n      <td>0</td>\n      <td>0</td>\n      <td>0</td>\n      <td>0</td>\n      <td>0</td>\n      <td>0</td>\n      <td>0</td>\n      <td>0</td>\n      <td>0</td>\n      <td>0</td>\n      <td>...</td>\n      <td>0</td>\n      <td>0</td>\n      <td>0</td>\n      <td>0</td>\n      <td>0</td>\n      <td>0</td>\n      <td>0</td>\n      <td>50000</td>\n      <td>0</td>\n      <td>0</td>\n    </tr>\n    <tr>\n      <th>不足日数時間精算</th>\n      <td>0</td>\n      <td>0</td>\n      <td>0</td>\n      <td>0</td>\n      <td>-13448</td>\n      <td>-12944</td>\n      <td>-2365</td>\n      <td>-12222</td>\n      <td>0</td>\n      <td>0</td>\n      <td>...</td>\n      <td>0</td>\n      <td>0</td>\n      <td>0</td>\n      <td>0</td>\n      <td>0</td>\n      <td>0</td>\n      <td>0</td>\n      <td>0</td>\n      <td>0</td>\n      <td>0</td>\n    </tr>\n    <tr>\n      <th>休日勤務手当</th>\n      <td>0</td>\n      <td>0</td>\n      <td>0</td>\n      <td>15833</td>\n      <td>15833</td>\n      <td>0</td>\n      <td>15833</td>\n      <td>0</td>\n      <td>0</td>\n      <td>0</td>\n      <td>...</td>\n      <td>0</td>\n      <td>0</td>\n      <td>4086</td>\n      <td>0</td>\n      <td>0</td>\n      <td>0</td>\n      <td>0</td>\n      <td>0</td>\n      <td>0</td>\n      <td>0</td>\n    </tr>\n    <tr>\n      <th>基本給</th>\n      <td>220000</td>\n      <td>220000</td>\n      <td>220000</td>\n      <td>220000</td>\n      <td>220000</td>\n      <td>220000</td>\n      <td>220000</td>\n      <td>220000</td>\n      <td>220000</td>\n      <td>220000</td>\n      <td>...</td>\n      <td>220000</td>\n      <td>224500</td>\n      <td>224500</td>\n      <td>224500</td>\n      <td>224500</td>\n      <td>224500</td>\n      <td>224500</td>\n      <td>224500</td>\n      <td>224500</td>\n      <td>224500</td>\n    </tr>\n    <tr>\n      <th>新卒住宅補助</th>\n      <td>0</td>\n      <td>0</td>\n      <td>0</td>\n      <td>25000</td>\n      <td>25000</td>\n      <td>25000</td>\n      <td>25000</td>\n      <td>25000</td>\n      <td>25000</td>\n      <td>25000</td>\n      <td>...</td>\n      <td>25000</td>\n      <td>25000</td>\n      <td>25000</td>\n      <td>25000</td>\n      <td>25000</td>\n      <td>25000</td>\n      <td>25000</td>\n      <td>25000</td>\n      <td>25000</td>\n      <td>25000</td>\n    </tr>\n    <tr>\n      <th>時間外勤務手当</th>\n      <td>0</td>\n      <td>1833</td>\n      <td>0</td>\n      <td>20158</td>\n      <td>73300</td>\n      <td>64138</td>\n      <td>64138</td>\n      <td>75133</td>\n      <td>60473</td>\n      <td>23823</td>\n      <td>...</td>\n      <td>72345</td>\n      <td>32152</td>\n      <td>45390</td>\n      <td>58629</td>\n      <td>49173</td>\n      <td>47282</td>\n      <td>41608</td>\n      <td>49173</td>\n      <td>13239</td>\n      <td>1892</td>\n    </tr>\n    <tr>\n      <th>深夜勤務手当</th>\n      <td>0</td>\n      <td>0</td>\n      <td>0</td>\n      <td>0</td>\n      <td>0</td>\n      <td>367</td>\n      <td>0</td>\n      <td>0</td>\n      <td>367</td>\n      <td>0</td>\n      <td>...</td>\n      <td>742</td>\n      <td>379</td>\n      <td>3026</td>\n      <td>757</td>\n      <td>0</td>\n      <td>379</td>\n      <td>0</td>\n      <td>757</td>\n      <td>0</td>\n      <td>0</td>\n    </tr>\n    <tr>\n      <th>資格取得(奨励金)</th>\n      <td>0</td>\n      <td>0</td>\n      <td>0</td>\n      <td>25700</td>\n      <td>0</td>\n      <td>0</td>\n      <td>0</td>\n      <td>0</td>\n      <td>0</td>\n      <td>0</td>\n      <td>...</td>\n      <td>0</td>\n      <td>0</td>\n      <td>0</td>\n      <td>0</td>\n      <td>0</td>\n      <td>0</td>\n      <td>0</td>\n      <td>0</td>\n      <td>0</td>\n      <td>10000</td>\n    </tr>\n    <tr>\n      <th>通勤手当*</th>\n      <td>0</td>\n      <td>0</td>\n      <td>0</td>\n      <td>63200</td>\n      <td>0</td>\n      <td>0</td>\n      <td>0</td>\n      <td>0</td>\n      <td>0</td>\n      <td>46120</td>\n      <td>...</td>\n      <td>0</td>\n      <td>0</td>\n      <td>46120</td>\n      <td>0</td>\n      <td>0</td>\n      <td>0</td>\n      <td>0</td>\n      <td>0</td>\n      <td>46980</td>\n      <td>0</td>\n    </tr>\n    <tr>\n      <th>遡及差額</th>\n      <td>0</td>\n      <td>0</td>\n      <td>0</td>\n      <td>75000</td>\n      <td>0</td>\n      <td>0</td>\n      <td>0</td>\n      <td>0</td>\n      <td>0</td>\n      <td>0</td>\n      <td>...</td>\n      <td>0</td>\n      <td>10429</td>\n      <td>0</td>\n      <td>0</td>\n      <td>0</td>\n      <td>0</td>\n      <td>0</td>\n      <td>0</td>\n      <td>0</td>\n      <td>0</td>\n    </tr>\n  </tbody>\n</table>\n<p>11 rows × 23 columns</p>\n</div>",
      "text/plain": "date           2018-04-25  2018-05-25  2018-06-25  2018-07-25  2018-08-24  \\\ntype                                                                        \nSmart&Fun!支援金       10000       10000       10000       10000       10000   \nその他支給(課税加算)             0           0           0           0           0   \n不足日数時間精算                0           0           0           0      -13448   \n休日勤務手当                  0           0           0       15833       15833   \n基本給                220000      220000      220000      220000      220000   \n新卒住宅補助                  0           0           0       25000       25000   \n時間外勤務手当                 0        1833           0       20158       73300   \n深夜勤務手当                  0           0           0           0           0   \n資格取得(奨励金)               0           0           0       25700           0   \n通勤手当*                   0           0           0       63200           0   \n遡及差額                    0           0           0       75000           0   \n\ndate           2018-09-25  2018-10-25  2018-11-22  2018-12-25  2019-01-25  \\\ntype                                                                        \nSmart&Fun!支援金       10000       10000       10000       10000       10000   \nその他支給(課税加算)             0           0           0           0           0   \n不足日数時間精算           -12944       -2365      -12222           0           0   \n休日勤務手当                  0       15833           0           0           0   \n基本給                220000      220000      220000      220000      220000   \n新卒住宅補助              25000       25000       25000       25000       25000   \n時間外勤務手当             64138       64138       75133       60473       23823   \n深夜勤務手当                367           0           0         367           0   \n資格取得(奨励金)               0           0           0           0           0   \n通勤手当*                   0           0           0           0       46120   \n遡及差額                    0           0           0           0           0   \n\ndate           ...  2019-05-24  2019-06-25  2019-07-25  2019-08-23  \\\ntype           ...                                                   \nSmart&Fun!支援金  ...       10000       10000       10000       10000   \nその他支給(課税加算)    ...           0           0           0           0   \n不足日数時間精算       ...           0           0           0           0   \n休日勤務手当         ...           0           0        4086           0   \n基本給            ...      220000      224500      224500      224500   \n新卒住宅補助         ...       25000       25000       25000       25000   \n時間外勤務手当        ...       72345       32152       45390       58629   \n深夜勤務手当         ...         742         379        3026         757   \n資格取得(奨励金)      ...           0           0           0           0   \n通勤手当*          ...           0           0       46120           0   \n遡及差額           ...           0       10429           0           0   \n\ndate           2019-09-25  2019-10-25  2019-11-25  2019-12-25  2020-01-24  \\\ntype                                                                        \nSmart&Fun!支援金       10000       10000       10000       10000       10000   \nその他支給(課税加算)             0           0           0       50000           0   \n不足日数時間精算                0           0           0           0           0   \n休日勤務手当                  0           0           0           0           0   \n基本給                224500      224500      224500      224500      224500   \n新卒住宅補助              25000       25000       25000       25000       25000   \n時間外勤務手当             49173       47282       41608       49173       13239   \n深夜勤務手当                  0         379           0         757           0   \n資格取得(奨励金)               0           0           0           0           0   \n通勤手当*                   0           0           0           0       46980   \n遡及差額                    0           0           0           0           0   \n\ndate           2020-02-25  \ntype                       \nSmart&Fun!支援金       10000  \nその他支給(課税加算)             0  \n不足日数時間精算                0  \n休日勤務手当                  0  \n基本給                224500  \n新卒住宅補助              25000  \n時間外勤務手当              1892  \n深夜勤務手当                  0  \n資格取得(奨励金)           10000  \n通勤手当*                   0  \n遡及差額                    0  \n\n[11 rows x 23 columns]"
     },
     "execution_count": 28,
     "metadata": {},
     "output_type": "execute_result"
    }
   ],
   "source": [
    "dataframes = []\n",
    "for filename in JSON_FILES:\n",
    "    dates, keys, values, indexes = [], [], [], []\n",
    "\n",
    "    file_path = pathlib.Path(JSON_DIR_PATH, filename)\n",
    "    with open(file_path, 'r') as json_file:\n",
    "        dict_data = json.load(json_file)\n",
    "\n",
    "    \"\"\"Single key extraction\"\"\"\n",
    "    dates, keys, values = [], [], []\n",
    "    date = dict_data[PAID_DATE]\n",
    "    for key, value in dict_data['incomes'].items():\n",
    "        values.append(value)\n",
    "        keys.append(key)\n",
    "        dates.append(date)\n",
    "    df = pd.DataFrame({'date': dates, 'type': keys, 'value': values})\n",
    "    dataframes.append(df)\n",
    "\n",
    "df = pd.concat(dataframes)\n",
    "table = pd.pivot_table(df, index='type', columns='date', values='value', fill_value=0)\n",
    "table"
   ]
  },
  {
   "cell_type": "code",
   "execution_count": null,
   "metadata": {},
   "outputs": [],
   "source": []
  },
  {
   "cell_type": "code",
   "execution_count": 30,
   "metadata": {},
   "outputs": [
    {
     "data": {
      "text/html": "<div>\n<style scoped>\n    .dataframe tbody tr th:only-of-type {\n        vertical-align: middle;\n    }\n\n    .dataframe tbody tr th {\n        vertical-align: top;\n    }\n\n    .dataframe thead th {\n        text-align: right;\n    }\n</style>\n<table border=\"1\" class=\"dataframe\">\n  <thead>\n    <tr style=\"text-align: right;\">\n      <th>date</th>\n      <th>Alfa</th>\n      <th>Bravo</th>\n      <th>Charlie</th>\n      <th>Delta</th>\n      <th>Echo</th>\n      <th>Foxtrot</th>\n      <th>Golf</th>\n      <th>Hotel</th>\n      <th>India</th>\n      <th>Juliett</th>\n      <th>...</th>\n      <th>November</th>\n      <th>Oscar</th>\n      <th>Papa</th>\n      <th>Quebec</th>\n      <th>Romeo</th>\n      <th>Sierra</th>\n      <th>2019-11-25</th>\n      <th>2019-12-25</th>\n      <th>2020-01-24</th>\n      <th>2020-02-25</th>\n    </tr>\n    <tr>\n      <th>type</th>\n      <th></th>\n      <th></th>\n      <th></th>\n      <th></th>\n      <th></th>\n      <th></th>\n      <th></th>\n      <th></th>\n      <th></th>\n      <th></th>\n      <th></th>\n      <th></th>\n      <th></th>\n      <th></th>\n      <th></th>\n      <th></th>\n      <th></th>\n      <th></th>\n      <th></th>\n      <th></th>\n      <th></th>\n    </tr>\n  </thead>\n  <tbody>\n    <tr>\n      <th>Smart&amp;Fun!支援金</th>\n      <td>10000</td>\n      <td>10000</td>\n      <td>10000</td>\n      <td>10000</td>\n      <td>10000</td>\n      <td>10000</td>\n      <td>10000</td>\n      <td>10000</td>\n      <td>10000</td>\n      <td>10000</td>\n      <td>...</td>\n      <td>10000</td>\n      <td>10000</td>\n      <td>10000</td>\n      <td>10000</td>\n      <td>10000</td>\n      <td>10000</td>\n      <td>10000</td>\n      <td>10000</td>\n      <td>10000</td>\n      <td>10000</td>\n    </tr>\n    <tr>\n      <th>その他支給(課税加算)</th>\n      <td>0</td>\n      <td>0</td>\n      <td>0</td>\n      <td>0</td>\n      <td>0</td>\n      <td>0</td>\n      <td>0</td>\n      <td>0</td>\n      <td>0</td>\n      <td>0</td>\n      <td>...</td>\n      <td>0</td>\n      <td>0</td>\n      <td>0</td>\n      <td>0</td>\n      <td>0</td>\n      <td>0</td>\n      <td>0</td>\n      <td>50000</td>\n      <td>0</td>\n      <td>0</td>\n    </tr>\n    <tr>\n      <th>不足日数時間精算</th>\n      <td>0</td>\n      <td>0</td>\n      <td>0</td>\n      <td>0</td>\n      <td>-13448</td>\n      <td>-12944</td>\n      <td>-2365</td>\n      <td>-12222</td>\n      <td>0</td>\n      <td>0</td>\n      <td>...</td>\n      <td>0</td>\n      <td>0</td>\n      <td>0</td>\n      <td>0</td>\n      <td>0</td>\n      <td>0</td>\n      <td>0</td>\n      <td>0</td>\n      <td>0</td>\n      <td>0</td>\n    </tr>\n    <tr>\n      <th>休日勤務手当</th>\n      <td>0</td>\n      <td>0</td>\n      <td>0</td>\n      <td>15833</td>\n      <td>15833</td>\n      <td>0</td>\n      <td>15833</td>\n      <td>0</td>\n      <td>0</td>\n      <td>0</td>\n      <td>...</td>\n      <td>0</td>\n      <td>0</td>\n      <td>4086</td>\n      <td>0</td>\n      <td>0</td>\n      <td>0</td>\n      <td>0</td>\n      <td>0</td>\n      <td>0</td>\n      <td>0</td>\n    </tr>\n    <tr>\n      <th>基本給</th>\n      <td>220000</td>\n      <td>220000</td>\n      <td>220000</td>\n      <td>220000</td>\n      <td>220000</td>\n      <td>220000</td>\n      <td>220000</td>\n      <td>220000</td>\n      <td>220000</td>\n      <td>220000</td>\n      <td>...</td>\n      <td>220000</td>\n      <td>224500</td>\n      <td>224500</td>\n      <td>224500</td>\n      <td>224500</td>\n      <td>224500</td>\n      <td>224500</td>\n      <td>224500</td>\n      <td>224500</td>\n      <td>224500</td>\n    </tr>\n    <tr>\n      <th>新卒住宅補助</th>\n      <td>0</td>\n      <td>0</td>\n      <td>0</td>\n      <td>25000</td>\n      <td>25000</td>\n      <td>25000</td>\n      <td>25000</td>\n      <td>25000</td>\n      <td>25000</td>\n      <td>25000</td>\n      <td>...</td>\n      <td>25000</td>\n      <td>25000</td>\n      <td>25000</td>\n      <td>25000</td>\n      <td>25000</td>\n      <td>25000</td>\n      <td>25000</td>\n      <td>25000</td>\n      <td>25000</td>\n      <td>25000</td>\n    </tr>\n    <tr>\n      <th>時間外勤務手当</th>\n      <td>0</td>\n      <td>1833</td>\n      <td>0</td>\n      <td>20158</td>\n      <td>73300</td>\n      <td>64138</td>\n      <td>64138</td>\n      <td>75133</td>\n      <td>60473</td>\n      <td>23823</td>\n      <td>...</td>\n      <td>72345</td>\n      <td>32152</td>\n      <td>45390</td>\n      <td>58629</td>\n      <td>49173</td>\n      <td>47282</td>\n      <td>41608</td>\n      <td>49173</td>\n      <td>13239</td>\n      <td>1892</td>\n    </tr>\n    <tr>\n      <th>深夜勤務手当</th>\n      <td>0</td>\n      <td>0</td>\n      <td>0</td>\n      <td>0</td>\n      <td>0</td>\n      <td>367</td>\n      <td>0</td>\n      <td>0</td>\n      <td>367</td>\n      <td>0</td>\n      <td>...</td>\n      <td>742</td>\n      <td>379</td>\n      <td>3026</td>\n      <td>757</td>\n      <td>0</td>\n      <td>379</td>\n      <td>0</td>\n      <td>757</td>\n      <td>0</td>\n      <td>0</td>\n    </tr>\n    <tr>\n      <th>資格取得(奨励金)</th>\n      <td>0</td>\n      <td>0</td>\n      <td>0</td>\n      <td>25700</td>\n      <td>0</td>\n      <td>0</td>\n      <td>0</td>\n      <td>0</td>\n      <td>0</td>\n      <td>0</td>\n      <td>...</td>\n      <td>0</td>\n      <td>0</td>\n      <td>0</td>\n      <td>0</td>\n      <td>0</td>\n      <td>0</td>\n      <td>0</td>\n      <td>0</td>\n      <td>0</td>\n      <td>10000</td>\n    </tr>\n    <tr>\n      <th>通勤手当*</th>\n      <td>0</td>\n      <td>0</td>\n      <td>0</td>\n      <td>63200</td>\n      <td>0</td>\n      <td>0</td>\n      <td>0</td>\n      <td>0</td>\n      <td>0</td>\n      <td>46120</td>\n      <td>...</td>\n      <td>0</td>\n      <td>0</td>\n      <td>46120</td>\n      <td>0</td>\n      <td>0</td>\n      <td>0</td>\n      <td>0</td>\n      <td>0</td>\n      <td>46980</td>\n      <td>0</td>\n    </tr>\n    <tr>\n      <th>遡及差額</th>\n      <td>0</td>\n      <td>0</td>\n      <td>0</td>\n      <td>75000</td>\n      <td>0</td>\n      <td>0</td>\n      <td>0</td>\n      <td>0</td>\n      <td>0</td>\n      <td>0</td>\n      <td>...</td>\n      <td>0</td>\n      <td>10429</td>\n      <td>0</td>\n      <td>0</td>\n      <td>0</td>\n      <td>0</td>\n      <td>0</td>\n      <td>0</td>\n      <td>0</td>\n      <td>0</td>\n    </tr>\n  </tbody>\n</table>\n<p>11 rows × 23 columns</p>\n</div>",
      "text/plain": "date             Alfa   Bravo  Charlie   Delta    Echo  Foxtrot    Golf  \\\ntype                                                                      \nSmart&Fun!支援金   10000   10000    10000   10000   10000    10000   10000   \nその他支給(課税加算)         0       0        0       0       0        0       0   \n不足日数時間精算            0       0        0       0  -13448   -12944   -2365   \n休日勤務手当              0       0        0   15833   15833        0   15833   \n基本給            220000  220000   220000  220000  220000   220000  220000   \n新卒住宅補助              0       0        0   25000   25000    25000   25000   \n時間外勤務手当             0    1833        0   20158   73300    64138   64138   \n深夜勤務手当              0       0        0       0       0      367       0   \n資格取得(奨励金)           0       0        0   25700       0        0       0   \n通勤手当*               0       0        0   63200       0        0       0   \n遡及差額                0       0        0   75000       0        0       0   \n\ndate            Hotel   India  Juliett  ...  November   Oscar    Papa  Quebec  \\\ntype                                    ...                                     \nSmart&Fun!支援金   10000   10000    10000  ...     10000   10000   10000   10000   \nその他支給(課税加算)         0       0        0  ...         0       0       0       0   \n不足日数時間精算       -12222       0        0  ...         0       0       0       0   \n休日勤務手当              0       0        0  ...         0       0    4086       0   \n基本給            220000  220000   220000  ...    220000  224500  224500  224500   \n新卒住宅補助          25000   25000    25000  ...     25000   25000   25000   25000   \n時間外勤務手当         75133   60473    23823  ...     72345   32152   45390   58629   \n深夜勤務手当              0     367        0  ...       742     379    3026     757   \n資格取得(奨励金)           0       0        0  ...         0       0       0       0   \n通勤手当*               0       0    46120  ...         0       0   46120       0   \n遡及差額                0       0        0  ...         0   10429       0       0   \n\ndate            Romeo  Sierra  2019-11-25  2019-12-25  2020-01-24  2020-02-25  \ntype                                                                           \nSmart&Fun!支援金   10000   10000       10000       10000       10000       10000  \nその他支給(課税加算)         0       0           0       50000           0           0  \n不足日数時間精算            0       0           0           0           0           0  \n休日勤務手当              0       0           0           0           0           0  \n基本給            224500  224500      224500      224500      224500      224500  \n新卒住宅補助          25000   25000       25000       25000       25000       25000  \n時間外勤務手当         49173   47282       41608       49173       13239        1892  \n深夜勤務手当              0     379           0         757           0           0  \n資格取得(奨励金)           0       0           0           0           0       10000  \n通勤手当*               0       0           0           0       46980           0  \n遡及差額                0       0           0           0           0           0  \n\n[11 rows x 23 columns]"
     },
     "execution_count": 30,
     "metadata": {},
     "output_type": "execute_result"
    }
   ],
   "source": [
    "newTable = table.transpose()\n",
    "EN_TYPE = ['Alfa', 'Bravo', 'Charlie', 'Delta', 'Echo', 'Foxtrot',\n",
    "        'Golf', 'Hotel', 'India', 'Juliett', 'Kilo', 'LIma', 'Mike', \n",
    "        'November', 'Oscar', 'Papa', 'Quebec', 'Romeo', 'Sierra']\n",
    "\n",
    "col_num = len(table.columns)\n",
    "EN_TYPE = EN_TYPE[:col_num]\n",
    "col_dict = dict(zip(table.columns, EN_TYPE))\n",
    "newTable = table.rename(columns=col_dict)\n",
    "newTable"
   ]
  },
  {
   "cell_type": "code",
   "execution_count": null,
   "metadata": {},
   "outputs": [],
   "source": []
  }
 ]
}